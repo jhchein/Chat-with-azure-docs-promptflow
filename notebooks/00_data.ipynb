{
 "cells": [
  {
   "cell_type": "markdown",
   "metadata": {},
   "source": [
    "The AI Search Azure docs can be found here: https://github.com/MicrosoftDocs/azure-docs/tree/main/articles/search\n",
    "\n"
   ]
  },
  {
   "cell_type": "code",
   "execution_count": 6,
   "metadata": {},
   "outputs": [
    {
     "name": "stdout",
     "output_type": "stream",
     "text": [
      "Location: northeurope\n",
      "Resource Group: chat-with-azure-docs-rg\n",
      "Storage Account: azuredocsad3761558b1a5c5\n",
      "Container: azuredocs\n"
     ]
    }
   ],
   "source": [
    "import os\n",
    "import time\n",
    "import uuid\n",
    "\n",
    "import requests\n",
    "from azure.identity import DefaultAzureCredential\n",
    "from azure.mgmt.resource import ResourceManagementClient\n",
    "from azure.mgmt.storage import StorageManagementClient\n",
    "from azure.storage.blob import BlobServiceClient\n",
    "from dotenv import load_dotenv\n",
    "from requests.exceptions import HTTPError\n",
    "from tqdm import tqdm\n",
    "\n",
    "load_dotenv()\n",
    "\n",
    "TENANT_ID = os.getenv(\"TENANT_ID\")\n",
    "SUBSCRIPTION_ID = os.getenv(\"SUBSCRIPTION_ID\")\n",
    "GITHUB_PAT = os.getenv(\"GITHUB_PAT\")\n",
    "LOCATION = os.getenv(\"LOCATION\")\n",
    "\n",
    "DOCS_GITHUB_URL = \"https://api.github.com/repos/MicrosoftDocs/azure-docs/contents/articles/search\"\n",
    "\n",
    "RESOURCE_GROUP_NAME = \"chat-with-azure-docs-rg\"\n",
    "\n",
    "# 12 DIGIT SUFFIX FROM HASHED TENANT ID, SUBSCRIPTION ID, AND RESOURCE GROUP NAME\n",
    "SUFFIX = str(uuid.uuid5(uuid.NAMESPACE_DNS, f\"{TENANT_ID}{SUBSCRIPTION_ID}{RESOURCE_GROUP_NAME}\")).replace('-', '')[:15]\n",
    "\n",
    "STORAGE_ACCOUNT_NAME = f\"azuredocs{SUFFIX}\"\n",
    "CONTAINER_NAME = \"azuredocs\"\n",
    "\n",
    "print(f\"Location: {LOCATION}\")\n",
    "print(f\"Resource Group: {RESOURCE_GROUP_NAME}\")\n",
    "print(f\"Storage Account: {STORAGE_ACCOUNT_NAME}\")\n",
    "print(f\"Container: {CONTAINER_NAME}\")"
   ]
  },
  {
   "cell_type": "code",
   "execution_count": null,
   "metadata": {},
   "outputs": [],
   "source": [
    "# # In case you need to specify the tenant ID and subscription ID\n",
    "# !az login --tenant $TENANT_ID\n",
    "# !az account set --subscription $SUBSCRIPTION_ID"
   ]
  },
  {
   "cell_type": "code",
   "execution_count": 7,
   "metadata": {},
   "outputs": [
    {
     "data": {
      "text/plain": [
       "<azure.mgmt.resource.resources.v2022_09_01.models._models_py3.ResourceGroup at 0x24ba9476f90>"
      ]
     },
     "execution_count": 7,
     "metadata": {},
     "output_type": "execute_result"
    }
   ],
   "source": [
    "credential = DefaultAzureCredential()\n",
    "\n",
    "# Create a resource group or check if it already exists using the SDK\n",
    "resource_client = ResourceManagementClient(\n",
    "    credential=DefaultAzureCredential(),\n",
    "    subscription_id=SUBSCRIPTION_ID\n",
    ")\n",
    "\n",
    "resource_client.resource_groups.create_or_update(\n",
    "    resource_group_name=RESOURCE_GROUP_NAME,\n",
    "    parameters={\"location\": LOCATION}\n",
    ")\n"
   ]
  },
  {
   "cell_type": "code",
   "execution_count": 8,
   "metadata": {},
   "outputs": [
    {
     "name": "stdout",
     "output_type": "stream",
     "text": [
      "Create storage account:\n",
      "{'additional_properties': {}, 'id': '/subscriptions/13c1109b-ba76-4ca6-8161-8767bdf3c75c/resourceGroups/chat-with-azure-docs-rg/providers/Microsoft.Storage/storageAccounts/azuredocsad3761558b1a5c5', 'name': 'azuredocsad3761558b1a5c5', 'type': 'Microsoft.Storage/storageAccounts', 'tags': {'purpose': 'demo', 'demo-name:': 'chat-with-azure-docs'}, 'location': 'northeurope', 'sku': <azure.mgmt.storage.v2023_01_01.models._models_py3.Sku object at 0x0000024BA990E0D0>, 'kind': 'StorageV2', 'identity': None, 'extended_location': None, 'provisioning_state': 'Succeeded', 'primary_endpoints': <azure.mgmt.storage.v2023_01_01.models._models_py3.Endpoints object at 0x0000024BA990DA90>, 'primary_location': 'northeurope', 'status_of_primary': 'available', 'last_geo_failover_time': None, 'secondary_location': None, 'status_of_secondary': None, 'creation_time': datetime.datetime(2023, 12, 20, 13, 27, 59, 963472, tzinfo=<isodate.tzinfo.Utc object at 0x0000024BA8783D10>), 'custom_domain': None, 'sas_policy': None, 'key_policy': None, 'key_creation_time': <azure.mgmt.storage.v2023_01_01.models._models_py3.KeyCreationTime object at 0x0000024BA990DCD0>, 'secondary_endpoints': None, 'encryption': <azure.mgmt.storage.v2023_01_01.models._models_py3.Encryption object at 0x0000024BA990DF90>, 'access_tier': 'Hot', 'azure_files_identity_based_authentication': None, 'enable_https_traffic_only': True, 'network_rule_set': <azure.mgmt.storage.v2023_01_01.models._models_py3.NetworkRuleSet object at 0x0000024BA990E050>, 'is_sftp_enabled': None, 'is_local_user_enabled': None, 'is_hns_enabled': None, 'geo_replication_stats': None, 'failover_in_progress': None, 'large_file_shares_state': None, 'private_endpoint_connections': [], 'routing_preference': None, 'blob_restore_status': None, 'allow_blob_public_access': False, 'minimum_tls_version': 'TLS1_0', 'allow_shared_key_access': None, 'enable_nfs_v3': None, 'allow_cross_tenant_replication': False, 'default_to_o_auth_authentication': None, 'public_network_access': None, 'immutable_storage_with_versioning': None, 'allowed_copy_scope': None, 'storage_account_sku_conversion_status': None, 'dns_endpoint_type': None, 'is_sku_conversion_blocked': None, 'account_migration_in_progress': None}\n"
     ]
    }
   ],
   "source": [
    "# Create a storage account or check if it already exists using the SDK\n",
    "storage_client = StorageManagementClient(credential, SUBSCRIPTION_ID)\n",
    "\n",
    "storage_account = storage_client.storage_accounts.begin_create(\n",
    "    RESOURCE_GROUP_NAME,\n",
    "    STORAGE_ACCOUNT_NAME,\n",
    "    {\n",
    "        \"sku\": {\n",
    "            \"name\": \"Standard_LRS\",\n",
    "        },\n",
    "        \"kind\": \"blobstorage\",\n",
    "        \"location\": LOCATION,\n",
    "        \"accessTier\": \"Hot\",\n",
    "        \"tags\": {\n",
    "            \"purpose\": \"demo\",\n",
    "            \"demo-name:\": \"chat-with-azure-docs\"\n",
    "        },\n",
    "    }\n",
    ").result()\n",
    "print(\"Create storage account:\\n{}\".format(storage_account))\n",
    "\n",
    "# Create Container\n",
    "container = storage_client.blob_containers.create(\n",
    "    RESOURCE_GROUP_NAME,\n",
    "    STORAGE_ACCOUNT_NAME,\n",
    "    CONTAINER_NAME,\n",
    "    {\n",
    "        \"public_access\": \"None\"\n",
    "    }\n",
    ")"
   ]
  },
  {
   "cell_type": "code",
   "execution_count": 14,
   "metadata": {},
   "outputs": [],
   "source": [
    "connection_string = f\"DefaultEndpointsProtocol=https;AccountName={STORAGE_ACCOUNT_NAME};AccountKey={storage_client.storage_accounts.list_keys(RESOURCE_GROUP_NAME, STORAGE_ACCOUNT_NAME).keys[0].value};EndpointSuffix=core.windows.net\"\n",
    "\n",
    "blob_service_client = BlobServiceClient.from_connection_string(connection_string)\n",
    "\n",
    "container_client = blob_service_client.get_container_client(CONTAINER_NAME)"
   ]
  },
  {
   "cell_type": "code",
   "execution_count": 15,
   "metadata": {},
   "outputs": [
    {
     "name": "stdout",
     "output_type": "stream",
     "text": [
      "{\n",
      "  \"allowPermanentDelete\": null,\n",
      "  \"days\": 7,\n",
      "  \"enabled\": true\n",
      "}\n"
     ]
    }
   ],
   "source": [
    "!az storage blob service-properties delete-policy update --account-name $STORAGE_ACCOUNT_NAME  --enable true --days-retained 7 --connection-string $connection_string"
   ]
  },
  {
   "cell_type": "code",
   "execution_count": null,
   "metadata": {},
   "outputs": [],
   "source": [
    "# Function to process directory\n",
    "def process_directory(url):\n",
    "    headers = {'Authorization': f'token {GITHUB_PAT}'} if GITHUB_PAT else {}\n",
    "    contents = get_with_retry(url, headers)\n",
    "\n",
    "    # Check if contents is a list of dictionaries\n",
    "    if isinstance(contents, list) and all(isinstance(item, dict) for item in contents):\n",
    "        for content in tqdm(contents, desc=\"Processing files\"):\n",
    "            if content['type'] == 'file' and content['name'].endswith('.md'):\n",
    "                # Check if the blob already exists\n",
    "                blob_client = container_client.get_blob_client(blob=content['path'])\n",
    "                if not blob_client.exists():\n",
    "                    # Download and upload .md file\n",
    "                    file_content = get_with_retry(content['download_url'])\n",
    "                    blob_client.upload_blob(file_content)\n",
    "            elif content['type'] == 'dir':\n",
    "                # Recursive call for directories\n",
    "                process_directory(content['url'])\n",
    "\n",
    "def get_with_retry(url, headers=None, retry_after=2):\n",
    "    while True:\n",
    "        try:\n",
    "            with requests.get(url, headers=headers) as response:\n",
    "                response.raise_for_status()  # Raises stored HTTPError, if one occurred\n",
    "                return response.content\n",
    "        except HTTPError as http_err:\n",
    "            if response.status_code == 403:  # GitHub's rate limit status code\n",
    "                print(f\"Rate limit exceeded. Retrying in {retry_after} seconds...\")\n",
    "                time.sleep(retry_after)\n",
    "                retry_after *= 2  # Double the wait time for the next attempt\n",
    "            else:\n",
    "                raise http_err  # Re-raise the exception if it's not due to rate limiting\n",
    "\n",
    "# Start processing from the root of the repository\n",
    "process_directory(DOCS_GITHUB_URL)"
   ]
  },
  {
   "cell_type": "code",
   "execution_count": 11,
   "metadata": {},
   "outputs": [],
   "source": [
    "# Create a config file that contains the storage account name, container name, resource group name, and location\n",
    "with open(\"config.json\", \"w\") as f:\n",
    "    f.write(f\"\"\"{{\n",
    "    \"storage_account_name\": \"{STORAGE_ACCOUNT_NAME}\",\n",
    "    \"container_name\": \"{CONTAINER_NAME}\",\n",
    "    \"resource_group_name\": \"{RESOURCE_GROUP_NAME}\",\n",
    "    \"location\": \"{LOCATION}\",\n",
    "    \"suffix\": \"{SUFFIX}\",\n",
    "    \"storage_account_connection_string\": \"{connection_string}\"\n",
    "    }}\"\"\")"
   ]
  },
  {
   "cell_type": "code",
   "execution_count": null,
   "metadata": {},
   "outputs": [],
   "source": []
  }
 ],
 "metadata": {
  "kernelspec": {
   "display_name": "Python 3",
   "language": "python",
   "name": "python3"
  },
  "language_info": {
   "codemirror_mode": {
    "name": "ipython",
    "version": 3
   },
   "file_extension": ".py",
   "mimetype": "text/x-python",
   "name": "python",
   "nbconvert_exporter": "python",
   "pygments_lexer": "ipython3",
   "version": "3.11.7"
  }
 },
 "nbformat": 4,
 "nbformat_minor": 2
}
